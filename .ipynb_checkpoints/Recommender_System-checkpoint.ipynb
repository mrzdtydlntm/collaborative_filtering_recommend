{
 "cells": [
  {
   "cell_type": "code",
   "execution_count": 1,
   "metadata": {},
   "outputs": [],
   "source": [
    "from pyspark.sql import SparkSession\n",
    "from pyspark.ml.evaluation import RegressionEvaluator\n",
    "from pyspark.ml.recommendation import ALS"
   ]
  },
  {
   "cell_type": "code",
   "execution_count": 2,
   "metadata": {},
   "outputs": [],
   "source": [
    "spark = SparkSession.builder.appName('Recommender System CF').getOrCreate()"
   ]
  },
  {
   "cell_type": "code",
   "execution_count": 3,
   "metadata": {},
   "outputs": [],
   "source": [
    "rat = spark.read.csv('rat.csv', inferSchema=True, header=True)"
   ]
  },
  {
   "cell_type": "code",
   "execution_count": 4,
   "metadata": {
    "scrolled": true
   },
   "outputs": [
    {
     "name": "stdout",
     "output_type": "stream",
     "text": [
      "root\n",
      " |-- userId: integer (nullable = true)\n",
      " |-- movieId: integer (nullable = true)\n",
      " |-- rating: double (nullable = true)\n",
      " |-- timestamp: integer (nullable = true)\n",
      "\n"
     ]
    }
   ],
   "source": [
    "rat.printSchema()"
   ]
  },
  {
   "cell_type": "code",
   "execution_count": 5,
   "metadata": {},
   "outputs": [],
   "source": [
    "data = rat.drop('timestamp')"
   ]
  },
  {
   "cell_type": "code",
   "execution_count": 6,
   "metadata": {},
   "outputs": [
    {
     "name": "stdout",
     "output_type": "stream",
     "text": [
      "+------+-------+------+\n",
      "|userId|movieId|rating|\n",
      "+------+-------+------+\n",
      "|     1|     31|   2.5|\n",
      "|     1|   1029|   3.0|\n",
      "|     1|   1061|   3.0|\n",
      "|     1|   1129|   2.0|\n",
      "|     1|   1172|   4.0|\n",
      "|     1|   1263|   2.0|\n",
      "|     1|   1287|   2.0|\n",
      "|     1|   1293|   2.0|\n",
      "|     1|   1339|   3.5|\n",
      "|     1|   1343|   2.0|\n",
      "|     1|   1371|   2.5|\n",
      "|     1|   1405|   1.0|\n",
      "|     1|   1953|   4.0|\n",
      "|     1|   2105|   4.0|\n",
      "|     1|   2150|   3.0|\n",
      "|     1|   2193|   2.0|\n",
      "|     1|   2294|   2.0|\n",
      "|     1|   2455|   2.5|\n",
      "|     1|   2968|   1.0|\n",
      "|     1|   3671|   3.0|\n",
      "+------+-------+------+\n",
      "only showing top 20 rows\n",
      "\n"
     ]
    }
   ],
   "source": [
    "data.show()"
   ]
  },
  {
   "cell_type": "code",
   "execution_count": 7,
   "metadata": {},
   "outputs": [
    {
     "name": "stdout",
     "output_type": "stream",
     "text": [
      "+-------+------------------+\n",
      "|summary|            rating|\n",
      "+-------+------------------+\n",
      "|  count|            100004|\n",
      "|   mean| 3.543608255669773|\n",
      "| stddev|1.0580641091070326|\n",
      "|    min|               0.5|\n",
      "|    max|               5.0|\n",
      "+-------+------------------+\n",
      "\n"
     ]
    }
   ],
   "source": [
    "data.select(('rating')).describe().show()"
   ]
  },
  {
   "cell_type": "code",
   "execution_count": 8,
   "metadata": {},
   "outputs": [],
   "source": [
    "(training, test) = data.randomSplit([0.8, 0.2])"
   ]
  },
  {
   "cell_type": "code",
   "execution_count": 9,
   "metadata": {},
   "outputs": [],
   "source": [
    "als = ALS(maxIter=5,regParam=0.01, userCol='userId', itemCol='movieId', ratingCol='rating')"
   ]
  },
  {
   "cell_type": "code",
   "execution_count": 10,
   "metadata": {},
   "outputs": [],
   "source": [
    "model = als.fit(training)"
   ]
  },
  {
   "cell_type": "code",
   "execution_count": 11,
   "metadata": {},
   "outputs": [],
   "source": [
    "predictions = model.transform(test)"
   ]
  },
  {
   "cell_type": "code",
   "execution_count": 12,
   "metadata": {
    "scrolled": false
   },
   "outputs": [
    {
     "name": "stdout",
     "output_type": "stream",
     "text": [
      "+------+-------+------+----------+\n",
      "|userId|movieId|rating|prediction|\n",
      "+------+-------+------+----------+\n",
      "|    30|    463|   4.0| 2.9274898|\n",
      "|    85|    471|   3.0| 1.9460993|\n",
      "|   460|    471|   5.0| 4.5281115|\n",
      "|   350|    471|   3.0|  3.565811|\n",
      "|   306|    471|   3.0| 3.6842525|\n",
      "|   491|    471|   3.0| 2.9561155|\n",
      "|   514|    471|   4.0| 4.2804236|\n",
      "|    30|    471|   4.0| 3.3044834|\n",
      "|   547|    496|   3.0| 2.8261738|\n",
      "|   580|   1088|   3.0| 3.1876535|\n",
      "|   133|   1088|   1.5| 1.6899627|\n",
      "|   372|   1088|   4.0| 3.2355645|\n",
      "|    52|   1088|   4.0| 4.0418725|\n",
      "|   363|   1088|   2.0| 3.8845522|\n",
      "|    57|   1088|   4.0| 3.5915124|\n",
      "|   262|   1088|   2.0| 1.9665437|\n",
      "|   531|   1088|   5.0|  2.821863|\n",
      "|   509|   1088|   2.0|  2.974636|\n",
      "|   418|   1088|   5.0|   3.07216|\n",
      "|   344|   1088|   3.0| 2.4288683|\n",
      "+------+-------+------+----------+\n",
      "only showing top 20 rows\n",
      "\n"
     ]
    }
   ],
   "source": [
    "predictions.show()"
   ]
  },
  {
   "cell_type": "code",
   "execution_count": 13,
   "metadata": {},
   "outputs": [],
   "source": [
    "mov = spark.read.csv('mov.csv', header=True, inferSchema=True)"
   ]
  },
  {
   "cell_type": "code",
   "execution_count": 14,
   "metadata": {},
   "outputs": [],
   "source": [
    "res=predictions.join(mov, on=['movieId'], how='left')"
   ]
  },
  {
   "cell_type": "code",
   "execution_count": 15,
   "metadata": {},
   "outputs": [
    {
     "name": "stdout",
     "output_type": "stream",
     "text": [
      "+-------+------+------+----------+--------------------+--------------------+\n",
      "|movieId|userId|rating|prediction|               title|              genres|\n",
      "+-------+------+------+----------+--------------------+--------------------+\n",
      "|    463|    30|   4.0| 2.9274898|Guilty as Sin (1993)|Crime|Drama|Thriller|\n",
      "|    471|    85|   3.0| 1.9460993|Hudsucker Proxy, ...|              Comedy|\n",
      "|    471|   460|   5.0| 4.5281115|Hudsucker Proxy, ...|              Comedy|\n",
      "|    471|   350|   3.0|  3.565811|Hudsucker Proxy, ...|              Comedy|\n",
      "|    471|   306|   3.0| 3.6842525|Hudsucker Proxy, ...|              Comedy|\n",
      "|    471|   491|   3.0| 2.9561155|Hudsucker Proxy, ...|              Comedy|\n",
      "|    471|   514|   4.0| 4.2804236|Hudsucker Proxy, ...|              Comedy|\n",
      "|    471|    30|   4.0| 3.3044834|Hudsucker Proxy, ...|              Comedy|\n",
      "|    496|   547|   3.0| 2.8261738|What Happened Was...|Comedy|Drama|Roma...|\n",
      "|   1088|   580|   3.0| 3.1876535|Dirty Dancing (1987)|Drama|Musical|Rom...|\n",
      "|   1088|   133|   1.5| 1.6899627|Dirty Dancing (1987)|Drama|Musical|Rom...|\n",
      "|   1088|   372|   4.0| 3.2355645|Dirty Dancing (1987)|Drama|Musical|Rom...|\n",
      "|   1088|    52|   4.0| 4.0418725|Dirty Dancing (1987)|Drama|Musical|Rom...|\n",
      "|   1088|   363|   2.0| 3.8845522|Dirty Dancing (1987)|Drama|Musical|Rom...|\n",
      "|   1088|    57|   4.0| 3.5915124|Dirty Dancing (1987)|Drama|Musical|Rom...|\n",
      "|   1088|   262|   2.0| 1.9665437|Dirty Dancing (1987)|Drama|Musical|Rom...|\n",
      "|   1088|   531|   5.0|  2.821863|Dirty Dancing (1987)|Drama|Musical|Rom...|\n",
      "|   1088|   509|   2.0|  2.974636|Dirty Dancing (1987)|Drama|Musical|Rom...|\n",
      "|   1088|   418|   5.0|   3.07216|Dirty Dancing (1987)|Drama|Musical|Rom...|\n",
      "|   1088|   344|   3.0| 2.4288683|Dirty Dancing (1987)|Drama|Musical|Rom...|\n",
      "+-------+------+------+----------+--------------------+--------------------+\n",
      "only showing top 20 rows\n",
      "\n"
     ]
    }
   ],
   "source": [
    "res.show()"
   ]
  },
  {
   "cell_type": "code",
   "execution_count": 16,
   "metadata": {},
   "outputs": [],
   "source": [
    "user_126 = res.filter(res['userId']==126).select(['userId', 'title', 'genres'])"
   ]
  },
  {
   "cell_type": "code",
   "execution_count": 17,
   "metadata": {},
   "outputs": [
    {
     "name": "stdout",
     "output_type": "stream",
     "text": [
      "+------+--------------------+--------------------+\n",
      "|userId|               title|              genres|\n",
      "+------+--------------------+--------------------+\n",
      "|   126|Jungle Book, The ...|Adventure|Childre...|\n",
      "|   126|  Hoop Dreams (1994)|         Documentary|\n",
      "|   126|     Net, The (1995)|Action|Crime|Thri...|\n",
      "|   126|Walk in the Cloud...|       Drama|Romance|\n",
      "|   126|Terminator 2: Jud...|       Action|Sci-Fi|\n",
      "|   126|        Congo (1995)|Action|Adventure|...|\n",
      "|   126| Broken Arrow (1996)|Action|Adventure|...|\n",
      "|   126|       Junior (1994)|       Comedy|Sci-Fi|\n",
      "|   126|Fugitive, The (1993)|            Thriller|\n",
      "|   126| Black Beauty (1994)|Adventure|Childre...|\n",
      "|   126|Clear and Present...|Action|Crime|Dram...|\n",
      "|   126|      Jumanji (1995)|Adventure|Childre...|\n",
      "|   126|Aristocats, The (...|  Animation|Children|\n",
      "|   126|Addams Family Val...|Children|Comedy|F...|\n",
      "+------+--------------------+--------------------+\n",
      "\n"
     ]
    }
   ],
   "source": [
    "user_126.show()"
   ]
  },
  {
   "cell_type": "code",
   "execution_count": null,
   "metadata": {},
   "outputs": [],
   "source": []
  }
 ],
 "metadata": {
  "kernelspec": {
   "display_name": "Python 3",
   "language": "python",
   "name": "python3"
  },
  "language_info": {
   "codemirror_mode": {
    "name": "ipython",
    "version": 3
   },
   "file_extension": ".py",
   "mimetype": "text/x-python",
   "name": "python",
   "nbconvert_exporter": "python",
   "pygments_lexer": "ipython3",
   "version": "3.8.5"
  }
 },
 "nbformat": 4,
 "nbformat_minor": 4
}
